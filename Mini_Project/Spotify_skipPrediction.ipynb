{
  "nbformat": 4,
  "nbformat_minor": 0,
  "metadata": {
    "colab": {
      "name": "Spotify_skipPrediction.ipynb",
      "provenance": [],
      "collapsed_sections": []
    },
    "kernelspec": {
      "name": "python3",
      "display_name": "Python 3"
    },
    "accelerator": "GPU",
    "widgets": {
      "application/vnd.jupyter.widget-state+json": {
        "ac44fc0bd2cb414d9d01ef4eb8350b90": {
          "model_module": "@jupyter-widgets/controls",
          "model_name": "IntProgressModel",
          "state": {
            "_view_name": "ProgressView",
            "style": "IPY_MODEL_bd20159cc2114fab87215d5ff6f39e07",
            "_dom_classes": [],
            "description": "Processing: ",
            "_model_name": "IntProgressModel",
            "bar_style": "",
            "max": 3,
            "_view_module": "@jupyter-widgets/controls",
            "_model_module_version": "1.5.0",
            "value": 3,
            "_view_count": null,
            "_view_module_version": "1.5.0",
            "orientation": "horizontal",
            "min": 0,
            "description_tooltip": null,
            "_model_module": "@jupyter-widgets/controls",
            "layout": "IPY_MODEL_4ccbfa3f76754fab997df5cf939b80a0"
          }
        },
        "bd20159cc2114fab87215d5ff6f39e07": {
          "model_module": "@jupyter-widgets/controls",
          "model_name": "ProgressStyleModel",
          "state": {
            "_view_name": "StyleView",
            "_model_name": "ProgressStyleModel",
            "description_width": "",
            "_view_module": "@jupyter-widgets/base",
            "_model_module_version": "1.5.0",
            "_view_count": null,
            "_view_module_version": "1.2.0",
            "bar_color": null,
            "_model_module": "@jupyter-widgets/controls"
          }
        },
        "4ccbfa3f76754fab997df5cf939b80a0": {
          "model_module": "@jupyter-widgets/base",
          "model_name": "LayoutModel",
          "state": {
            "_view_name": "LayoutView",
            "grid_template_rows": null,
            "right": null,
            "justify_content": null,
            "_view_module": "@jupyter-widgets/base",
            "overflow": null,
            "_model_module_version": "1.2.0",
            "_view_count": null,
            "flex_flow": null,
            "width": null,
            "min_width": null,
            "border": null,
            "align_items": null,
            "bottom": null,
            "_model_module": "@jupyter-widgets/base",
            "top": null,
            "grid_column": null,
            "overflow_y": null,
            "overflow_x": null,
            "grid_auto_flow": null,
            "grid_area": null,
            "grid_template_columns": null,
            "flex": null,
            "_model_name": "LayoutModel",
            "justify_items": null,
            "grid_row": null,
            "max_height": null,
            "align_content": null,
            "visibility": null,
            "align_self": null,
            "height": null,
            "min_height": null,
            "padding": null,
            "grid_auto_rows": null,
            "grid_gap": null,
            "max_width": null,
            "order": null,
            "_view_module_version": "1.2.0",
            "grid_template_areas": null,
            "object_position": null,
            "object_fit": null,
            "grid_auto_columns": null,
            "margin": null,
            "display": null,
            "left": null
          }
        },
        "186d5b024f2e4a0e9bc882c166e60e7b": {
          "model_module": "@jupyter-widgets/controls",
          "model_name": "TextModel",
          "state": {
            "_view_name": "TextView",
            "style": "IPY_MODEL_efb2701049e0445c885bf6e11eb82c9a",
            "_dom_classes": [],
            "description": "",
            "_model_name": "TextModel",
            "placeholder": "​",
            "_view_module": "@jupyter-widgets/controls",
            "_model_module_version": "1.5.0",
            "value": "Following data types have been inferred automatically, if they are correct press enter to continue or type 'quit' otherwise.",
            "_view_count": null,
            "disabled": false,
            "_view_module_version": "1.5.0",
            "continuous_update": true,
            "description_tooltip": null,
            "_model_module": "@jupyter-widgets/controls",
            "layout": "IPY_MODEL_cebdc51410b44a7792b019cc59b6b56d"
          }
        },
        "efb2701049e0445c885bf6e11eb82c9a": {
          "model_module": "@jupyter-widgets/controls",
          "model_name": "DescriptionStyleModel",
          "state": {
            "_view_name": "StyleView",
            "_model_name": "DescriptionStyleModel",
            "description_width": "",
            "_view_module": "@jupyter-widgets/base",
            "_model_module_version": "1.5.0",
            "_view_count": null,
            "_view_module_version": "1.2.0",
            "_model_module": "@jupyter-widgets/controls"
          }
        },
        "cebdc51410b44a7792b019cc59b6b56d": {
          "model_module": "@jupyter-widgets/base",
          "model_name": "LayoutModel",
          "state": {
            "_view_name": "LayoutView",
            "grid_template_rows": null,
            "right": null,
            "justify_content": null,
            "_view_module": "@jupyter-widgets/base",
            "overflow": null,
            "_model_module_version": "1.2.0",
            "_view_count": null,
            "flex_flow": null,
            "width": "100%",
            "min_width": null,
            "border": null,
            "align_items": null,
            "bottom": null,
            "_model_module": "@jupyter-widgets/base",
            "top": null,
            "grid_column": null,
            "overflow_y": null,
            "overflow_x": null,
            "grid_auto_flow": null,
            "grid_area": null,
            "grid_template_columns": null,
            "flex": null,
            "_model_name": "LayoutModel",
            "justify_items": null,
            "grid_row": null,
            "max_height": null,
            "align_content": null,
            "visibility": null,
            "align_self": null,
            "height": null,
            "min_height": null,
            "padding": null,
            "grid_auto_rows": null,
            "grid_gap": null,
            "max_width": null,
            "order": null,
            "_view_module_version": "1.2.0",
            "grid_template_areas": null,
            "object_position": null,
            "object_fit": null,
            "grid_auto_columns": null,
            "margin": null,
            "display": null,
            "left": null
          }
        },
        "62a49fff828d40e588f9f1f4d1e034a4": {
          "model_module": "@jupyter-widgets/controls",
          "model_name": "IntProgressModel",
          "state": {
            "_view_name": "ProgressView",
            "style": "IPY_MODEL_9ea9c65d973345cd95dd5a295faf2bdf",
            "_dom_classes": [],
            "description": "Processing: ",
            "_model_name": "IntProgressModel",
            "bar_style": "",
            "max": 79,
            "_view_module": "@jupyter-widgets/controls",
            "_model_module_version": "1.5.0",
            "value": 79,
            "_view_count": null,
            "_view_module_version": "1.5.0",
            "orientation": "horizontal",
            "min": 0,
            "description_tooltip": null,
            "_model_module": "@jupyter-widgets/controls",
            "layout": "IPY_MODEL_dd0269adf78d4c358a967d9f1af57630"
          }
        },
        "9ea9c65d973345cd95dd5a295faf2bdf": {
          "model_module": "@jupyter-widgets/controls",
          "model_name": "ProgressStyleModel",
          "state": {
            "_view_name": "StyleView",
            "_model_name": "ProgressStyleModel",
            "description_width": "",
            "_view_module": "@jupyter-widgets/base",
            "_model_module_version": "1.5.0",
            "_view_count": null,
            "_view_module_version": "1.2.0",
            "bar_color": null,
            "_model_module": "@jupyter-widgets/controls"
          }
        },
        "dd0269adf78d4c358a967d9f1af57630": {
          "model_module": "@jupyter-widgets/base",
          "model_name": "LayoutModel",
          "state": {
            "_view_name": "LayoutView",
            "grid_template_rows": null,
            "right": null,
            "justify_content": null,
            "_view_module": "@jupyter-widgets/base",
            "overflow": null,
            "_model_module_version": "1.2.0",
            "_view_count": null,
            "flex_flow": null,
            "width": null,
            "min_width": null,
            "border": null,
            "align_items": null,
            "bottom": null,
            "_model_module": "@jupyter-widgets/base",
            "top": null,
            "grid_column": null,
            "overflow_y": null,
            "overflow_x": null,
            "grid_auto_flow": null,
            "grid_area": null,
            "grid_template_columns": null,
            "flex": null,
            "_model_name": "LayoutModel",
            "justify_items": null,
            "grid_row": null,
            "max_height": null,
            "align_content": null,
            "visibility": null,
            "align_self": null,
            "height": null,
            "min_height": null,
            "padding": null,
            "grid_auto_rows": null,
            "grid_gap": null,
            "max_width": null,
            "order": null,
            "_view_module_version": "1.2.0",
            "grid_template_areas": null,
            "object_position": null,
            "object_fit": null,
            "grid_auto_columns": null,
            "margin": null,
            "display": null,
            "left": null
          }
        }
      }
    }
  },
  "cells": [
    {
      "cell_type": "markdown",
      "metadata": {
        "id": "_2VOBGc379ZL"
      },
      "source": [
        "# Setting Workspace"
      ]
    },
    {
      "cell_type": "code",
      "metadata": {
        "colab": {
          "base_uri": "https://localhost:8080/",
          "height": 35
        },
        "id": "ISXfm5P2Yfqv",
        "outputId": "1cbc082d-5caa-4a29-d993-cad99450ecb0"
      },
      "source": [
        "import tensorflow as tf\r\n",
        "tf.test.gpu_device_name()"
      ],
      "execution_count": 4,
      "outputs": [
        {
          "output_type": "execute_result",
          "data": {
            "application/vnd.google.colaboratory.intrinsic+json": {
              "type": "string"
            },
            "text/plain": [
              "'/device:GPU:0'"
            ]
          },
          "metadata": {
            "tags": []
          },
          "execution_count": 4
        }
      ]
    },
    {
      "cell_type": "code",
      "metadata": {
        "colab": {
          "base_uri": "https://localhost:8080/"
        },
        "id": "Ap8SwjGDYp2m",
        "outputId": "19dd8ae8-a8cb-4dd8-f9e0-fb7e92f58ddc"
      },
      "source": [
        "!ln -sf /opt/bin/nvidia-smi /usr/bin/nvidia-smi\r\n",
        "!pip install gputil\r\n",
        "!pip install psutil\r\n",
        "!pip install humanize\r\n",
        "import psutil\r\n",
        "import humanize\r\n",
        "import os\r\n",
        "import GPUtil as GPU\r\n",
        "GPUs = GPU.getGPUs()\r\n",
        "# XXX: only one GPU on Colab and isn’t guaranteed\r\n",
        "gpu = GPUs[0]\r\n",
        "def printm():\r\n",
        " process = psutil.Process(os.getpid())\r\n",
        " print(\"Gen RAM Free: \" + humanize.naturalsize( psutil.virtual_memory().available ), \" | Proc size: \" + humanize.naturalsize( process.memory_info().rss))\r\n",
        " print(\"GPU RAM Free: {0:.0f}MB | Used: {1:.0f}MB | Util {2:3.0f}% | Total {3:.0f}MB\".format(gpu.memoryFree, gpu.memoryUsed, gpu.memoryUtil*100, gpu.memoryTotal))\r\n",
        "printm() "
      ],
      "execution_count": 2,
      "outputs": [
        {
          "output_type": "stream",
          "text": [
            "Requirement already satisfied: gputil in /usr/local/lib/python3.6/dist-packages (1.4.0)\n",
            "Requirement already satisfied: psutil in /usr/local/lib/python3.6/dist-packages (5.4.8)\n",
            "Requirement already satisfied: humanize in /usr/local/lib/python3.6/dist-packages (0.5.1)\n",
            "Gen RAM Free: 12.2 GB  | Proc size: 1.1 GB\n",
            "GPU RAM Free: 14852MB | Used: 227MB | Util   2% | Total 15079MB\n"
          ],
          "name": "stdout"
        }
      ]
    },
    {
      "cell_type": "code",
      "metadata": {
        "id": "UK87rYBfYtSc"
      },
      "source": [
        "import pandas as pd\r\n",
        "import numpy as np\r\n",
        "import matplotlib.pyplot as plt\r\n",
        "%matplotlib inline\r\n",
        "import seaborn as sns\r\n",
        "from sklearn.preprocessing import StandardScaler\r\n",
        "from sklearn.utils import shuffle\r\n",
        "from sklearn.model_selection import train_test_split\r\n",
        "from sklearn import svm, datasets\r\n",
        "from sklearn.model_selection import GridSearchCV\r\n",
        "from sklearn.ensemble import RandomForestClassifier\r\n",
        "from sklearn.decomposition import PCA\r\n",
        "from sklearn.metrics import accuracy_score\r\n",
        "from sklearn.metrics import confusion_matrix\r\n",
        "from lazypredict.Supervised import LazyClassifier\r\n",
        "from pycaret.classification import * \r\n",
        "import pickle"
      ],
      "execution_count": 5,
      "outputs": []
    },
    {
      "cell_type": "code",
      "metadata": {
        "colab": {
          "base_uri": "https://localhost:8080/"
        },
        "id": "Mu1uVQ0qYzkU",
        "outputId": "d4c9a20c-5024-47d4-d487-eb638dc52f35"
      },
      "source": [
        "from google.colab import drive\r\n",
        "drive.mount('/content/Data')"
      ],
      "execution_count": 4,
      "outputs": [
        {
          "output_type": "stream",
          "text": [
            "Mounted at /content/Data\n"
          ],
          "name": "stdout"
        }
      ]
    },
    {
      "cell_type": "code",
      "metadata": {
        "id": "MG0JzDJXY1ic"
      },
      "source": [
        "data = pd.read_csv(\"/content/Data/MyDrive/Technocolabs/technocolabs training set.csv\")\r\n",
        "t1 = pd.read_csv(\"/content/Data/MyDrive/Technocolabs/20181120_track_features/track_features/tf_000000000000.csv\")\r\n",
        "t2 = pd.read_csv(\"/content/Data/MyDrive/Technocolabs/20181120_track_features/track_features/tf_000000000001.csv\")\r\n",
        "track_feat = pd.concat([t1, t2], ignore_index=True)"
      ],
      "execution_count": 6,
      "outputs": []
    },
    {
      "cell_type": "markdown",
      "metadata": {
        "id": "r3Sqt6oy8FB1"
      },
      "source": [
        "# Data preprocessing & Feature engineering"
      ]
    },
    {
      "cell_type": "code",
      "metadata": {
        "id": "tQBhVXIaY9G0"
      },
      "source": [
        "# setting the ground truth\r\n",
        "data[\"skipped\"] = np.where(data['not_skipped'], False, True)\r\n",
        "data = data.drop(['not_skipped','skip_1','skip_2','skip_3'],axis=1)\r\n",
        "\r\n",
        "# joining both the datasets\r\n",
        "data = data.rename(columns={\"track_id_clean\": \"track_id\"})\r\n",
        "df = pd.merge(data, track_feat, on='track_id')\r\n",
        "\r\n",
        "# sorting the data set after merging so as to group the songs according to sessions\r\n",
        "df = df.sort_values(['session_id','session_position'])\r\n",
        "\r\n",
        "# Combining session pos and length into one column and then dropping them \r\n",
        "df['session_comp'] = df['session_position']/df['session_length']\r\n",
        "df = df.drop(['session_id','session_position','session_length'],axis=1)\r\n",
        "\r\n",
        "# Rearranging columns\r\n",
        "cols = ['hour_of_day','date','duration','release_year','us_popularity_estimate','premium','session_comp','context_type','context_switch','no_pause_before_play','short_pause_before_play','long_pause_before_play',\r\n",
        " 'hist_user_behavior_n_seekfwd','hist_user_behavior_n_seekback','hist_user_behavior_is_shuffle','hist_user_behavior_reason_start','hist_user_behavior_reason_end','acousticness','beat_strength','bounciness',\r\n",
        " 'danceability','dyn_range_mean','energy','flatness','instrumentalness','key','liveness','loudness','mechanism','mode','organism','speechiness','tempo','time_signature','valence','acoustic_vector_0','acoustic_vector_1',\r\n",
        " 'acoustic_vector_2','acoustic_vector_3','acoustic_vector_4','acoustic_vector_5','acoustic_vector_6','acoustic_vector_7','skipped']\r\n",
        "\r\n",
        "df = df[cols]\r\n",
        "df = df.reset_index()\r\n",
        "df = df.drop(['index'],axis=1)\r\n",
        "\r\n"
      ],
      "execution_count": 7,
      "outputs": []
    },
    {
      "cell_type": "code",
      "metadata": {
        "id": "nedoXH4AZoZv"
      },
      "source": [
        "# tempo & flatness least correlated to target variable\r\n",
        "# beatstrength and dyn_range_mean highly correlated to bounciness \r\n",
        "df = df.drop(['tempo','flatness','beat_strength','dyn_range_mean'],axis=1)\r\n",
        "\r\n",
        "# short and long pause highly correlated, so combining them\r\n",
        "df['pause_before_play'] = (df['short_pause_before_play'] + df['long_pause_before_play'])/2\r\n",
        "df = df.drop(['short_pause_before_play','long_pause_before_play'],axis=1)\r\n",
        "\r\n",
        "# Encoding categorical variables  \r\n",
        "df[\"premium\"] = df[\"premium\"].astype(int)\r\n",
        "df = df.replace({\"mode\" : {\"major\":1,\"minor\":0}})\r\n",
        "df = df.drop([\"hour_of_day\",\"date\"],axis=1)\r\n",
        "df = df.replace({\"hist_user_behavior_is_shuffle\" : {False:0,True:1}})\r\n",
        "df = df.replace({\"skipped\" : {False:0,True:1}})\r\n",
        "df = df.drop([\"context_type\"],axis=1)\r\n",
        "df = pd.get_dummies(df, columns=['hist_user_behavior_reason_start','hist_user_behavior_reason_end'], prefix = ['Start_reason','End_reason'])\r\n",
        "\r\n",
        "# Dropping columns highly correlated and least correlated to target variable and which have least feature importances\r\n",
        "df = df.drop(['danceability','Start_reason_playbtn','key','Start_reason_trackerror','premium','End_reason_clickrow','Start_reason_endplay','mode'],axis=1)\r\n",
        "\r\n",
        "# Rearranging columns\r\n",
        "cols = ['duration','release_year','us_popularity_estimate','session_comp','context_switch','no_pause_before_play','pause_before_play','hist_user_behavior_n_seekfwd','hist_user_behavior_n_seekback','hist_user_behavior_is_shuffle','Start_reason_appload',\r\n",
        " 'Start_reason_backbtn','Start_reason_clickrow','Start_reason_fwdbtn','Start_reason_remote','Start_reason_trackdone','End_reason_backbtn','End_reason_endplay','End_reason_fwdbtn','End_reason_logout','End_reason_remote','End_reason_trackdone','acousticness','bounciness','energy','instrumentalness',\r\n",
        " 'liveness','loudness','mechanism','organism','speechiness','time_signature','valence','acoustic_vector_0','acoustic_vector_1','acoustic_vector_2','acoustic_vector_3','acoustic_vector_4','acoustic_vector_5',\r\n",
        " 'acoustic_vector_6','acoustic_vector_7','skipped']\r\n",
        "\r\n",
        "df = df[cols]\r\n",
        "\r\n",
        "\r\n"
      ],
      "execution_count": 8,
      "outputs": []
    },
    {
      "cell_type": "markdown",
      "metadata": {
        "id": "CQtz3Mj_8bKZ"
      },
      "source": [
        "# Model Selection and hyperparameter tuning"
      ]
    },
    {
      "cell_type": "code",
      "metadata": {
        "id": "Svx0Hst5aVEd"
      },
      "source": [
        "# Splitting dataset into train and test dataset\r\n",
        "train,test = train_test_split(df,train_size=0.9)"
      ],
      "execution_count": 12,
      "outputs": []
    },
    {
      "cell_type": "code",
      "metadata": {
        "colab": {
          "base_uri": "https://localhost:8080/"
        },
        "id": "bLDeTO6XbEIY",
        "outputId": "4ee8b470-78cf-4f23-9364-978a422a11b3"
      },
      "source": [
        "train.shape"
      ],
      "execution_count": 10,
      "outputs": [
        {
          "output_type": "execute_result",
          "data": {
            "text/plain": [
              "(151092, 42)"
            ]
          },
          "metadata": {
            "tags": []
          },
          "execution_count": 10
        }
      ]
    },
    {
      "cell_type": "code",
      "metadata": {
        "id": "FBSdd6ZHaw41"
      },
      "source": [
        "y_train = train['skipped']\r\n",
        "y_test = test['skipped']\r\n",
        "x_train = train.drop(['skipped'], axis = 1)\r\n",
        "x_test = test.drop(['skipped'], axis = 1)\r\n",
        "\r\n",
        "# Scaling dataset\r\n",
        "#scaler = StandardScaler()\r\n",
        "# Fit on training set only.\r\n",
        "#scaler.fit(x_train)\r\n",
        "# Apply transform to both the training set and the test set.\r\n",
        "#x_train = scaler.transform(x_train)\r\n",
        "#x_test = scaler.transform(x_test)"
      ],
      "execution_count": 13,
      "outputs": []
    },
    {
      "cell_type": "code",
      "metadata": {
        "colab": {
          "base_uri": "https://localhost:8080/"
        },
        "id": "TDy8l3pVA2-f",
        "outputId": "9ab83a21-1861-44e7-d1d4-b879244476ee"
      },
      "source": [
        "# data is scaled automatically both in lazypredict and pycaret\r\n",
        "# model selection using lazy classifier\r\n",
        "clf = LazyClassifier(predictions=True)\r\n",
        "models, predictions = clf.fit(x_train, x_test, y_train, y_test)"
      ],
      "execution_count": null,
      "outputs": [
        {
          "output_type": "stream",
          "text": [
            " 40%|████      | 12/30 [06:55<16:37, 55.40s/it]"
          ],
          "name": "stderr"
        }
      ]
    },
    {
      "cell_type": "code",
      "metadata": {
        "colab": {
          "base_uri": "https://localhost:8080/",
          "height": 1000,
          "referenced_widgets": [
            "ac44fc0bd2cb414d9d01ef4eb8350b90",
            "bd20159cc2114fab87215d5ff6f39e07",
            "4ccbfa3f76754fab997df5cf939b80a0",
            "186d5b024f2e4a0e9bc882c166e60e7b",
            "efb2701049e0445c885bf6e11eb82c9a",
            "cebdc51410b44a7792b019cc59b6b56d"
          ]
        },
        "id": "N_SX8vpaIHoF",
        "outputId": "b36a78ee-fa5a-404e-a5d1-6acec8ce5b12"
      },
      "source": [
        "# model selction using pycaret\r\n",
        "clf = setup(df, target='skipped', session_id=42)"
      ],
      "execution_count": 14,
      "outputs": [
        {
          "output_type": "display_data",
          "data": {
            "text/html": [
              "<div>\n",
              "<style scoped>\n",
              "    .dataframe tbody tr th:only-of-type {\n",
              "        vertical-align: middle;\n",
              "    }\n",
              "\n",
              "    .dataframe tbody tr th {\n",
              "        vertical-align: top;\n",
              "    }\n",
              "\n",
              "    .dataframe thead th {\n",
              "        text-align: right;\n",
              "    }\n",
              "</style>\n",
              "<table border=\"1\" class=\"dataframe\">\n",
              "  <thead>\n",
              "    <tr style=\"text-align: right;\">\n",
              "      <th></th>\n",
              "      <th>Description</th>\n",
              "      <th>Value</th>\n",
              "    </tr>\n",
              "  </thead>\n",
              "  <tbody>\n",
              "    <tr>\n",
              "      <th>0</th>\n",
              "      <td>session_id</td>\n",
              "      <td>42</td>\n",
              "    </tr>\n",
              "    <tr>\n",
              "      <th>1</th>\n",
              "      <td>Target</td>\n",
              "      <td>skipped</td>\n",
              "    </tr>\n",
              "    <tr>\n",
              "      <th>2</th>\n",
              "      <td>Target Type</td>\n",
              "      <td>Binary</td>\n",
              "    </tr>\n",
              "    <tr>\n",
              "      <th>3</th>\n",
              "      <td>Label Encoded</td>\n",
              "      <td>0: 0, 1: 1</td>\n",
              "    </tr>\n",
              "    <tr>\n",
              "      <th>4</th>\n",
              "      <td>Original Data</td>\n",
              "      <td>(167880, 42)</td>\n",
              "    </tr>\n",
              "    <tr>\n",
              "      <th>5</th>\n",
              "      <td>Missing Values</td>\n",
              "      <td>False</td>\n",
              "    </tr>\n",
              "    <tr>\n",
              "      <th>6</th>\n",
              "      <td>Numeric Features</td>\n",
              "      <td>37</td>\n",
              "    </tr>\n",
              "    <tr>\n",
              "      <th>7</th>\n",
              "      <td>Categorical Features</td>\n",
              "      <td>4</td>\n",
              "    </tr>\n",
              "    <tr>\n",
              "      <th>8</th>\n",
              "      <td>Ordinal Features</td>\n",
              "      <td>False</td>\n",
              "    </tr>\n",
              "    <tr>\n",
              "      <th>9</th>\n",
              "      <td>High Cardinality Features</td>\n",
              "      <td>False</td>\n",
              "    </tr>\n",
              "    <tr>\n",
              "      <th>10</th>\n",
              "      <td>High Cardinality Method</td>\n",
              "      <td>None</td>\n",
              "    </tr>\n",
              "    <tr>\n",
              "      <th>11</th>\n",
              "      <td>Transformed Train Set</td>\n",
              "      <td>(117515, 45)</td>\n",
              "    </tr>\n",
              "    <tr>\n",
              "      <th>12</th>\n",
              "      <td>Transformed Test Set</td>\n",
              "      <td>(50365, 45)</td>\n",
              "    </tr>\n",
              "    <tr>\n",
              "      <th>13</th>\n",
              "      <td>Shuffle Train-Test</td>\n",
              "      <td>True</td>\n",
              "    </tr>\n",
              "    <tr>\n",
              "      <th>14</th>\n",
              "      <td>Stratify Train-Test</td>\n",
              "      <td>False</td>\n",
              "    </tr>\n",
              "    <tr>\n",
              "      <th>15</th>\n",
              "      <td>Fold Generator</td>\n",
              "      <td>StratifiedKFold</td>\n",
              "    </tr>\n",
              "    <tr>\n",
              "      <th>16</th>\n",
              "      <td>Fold Number</td>\n",
              "      <td>10</td>\n",
              "    </tr>\n",
              "    <tr>\n",
              "      <th>17</th>\n",
              "      <td>CPU Jobs</td>\n",
              "      <td>-1</td>\n",
              "    </tr>\n",
              "    <tr>\n",
              "      <th>18</th>\n",
              "      <td>Use GPU</td>\n",
              "      <td>False</td>\n",
              "    </tr>\n",
              "    <tr>\n",
              "      <th>19</th>\n",
              "      <td>Log Experiment</td>\n",
              "      <td>False</td>\n",
              "    </tr>\n",
              "    <tr>\n",
              "      <th>20</th>\n",
              "      <td>Experiment Name</td>\n",
              "      <td>clf-default-name</td>\n",
              "    </tr>\n",
              "    <tr>\n",
              "      <th>21</th>\n",
              "      <td>USI</td>\n",
              "      <td>53d3</td>\n",
              "    </tr>\n",
              "    <tr>\n",
              "      <th>22</th>\n",
              "      <td>Imputation Type</td>\n",
              "      <td>simple</td>\n",
              "    </tr>\n",
              "    <tr>\n",
              "      <th>23</th>\n",
              "      <td>Iterative Imputation Iteration</td>\n",
              "      <td>None</td>\n",
              "    </tr>\n",
              "    <tr>\n",
              "      <th>24</th>\n",
              "      <td>Numeric Imputer</td>\n",
              "      <td>mean</td>\n",
              "    </tr>\n",
              "    <tr>\n",
              "      <th>25</th>\n",
              "      <td>Iterative Imputation Numeric Model</td>\n",
              "      <td>None</td>\n",
              "    </tr>\n",
              "    <tr>\n",
              "      <th>26</th>\n",
              "      <td>Categorical Imputer</td>\n",
              "      <td>constant</td>\n",
              "    </tr>\n",
              "    <tr>\n",
              "      <th>27</th>\n",
              "      <td>Iterative Imputation Categorical Model</td>\n",
              "      <td>None</td>\n",
              "    </tr>\n",
              "    <tr>\n",
              "      <th>28</th>\n",
              "      <td>Unknown Categoricals Handling</td>\n",
              "      <td>least_frequent</td>\n",
              "    </tr>\n",
              "    <tr>\n",
              "      <th>29</th>\n",
              "      <td>Normalize</td>\n",
              "      <td>False</td>\n",
              "    </tr>\n",
              "    <tr>\n",
              "      <th>30</th>\n",
              "      <td>Normalize Method</td>\n",
              "      <td>None</td>\n",
              "    </tr>\n",
              "    <tr>\n",
              "      <th>31</th>\n",
              "      <td>Transformation</td>\n",
              "      <td>False</td>\n",
              "    </tr>\n",
              "    <tr>\n",
              "      <th>32</th>\n",
              "      <td>Transformation Method</td>\n",
              "      <td>None</td>\n",
              "    </tr>\n",
              "    <tr>\n",
              "      <th>33</th>\n",
              "      <td>PCA</td>\n",
              "      <td>False</td>\n",
              "    </tr>\n",
              "    <tr>\n",
              "      <th>34</th>\n",
              "      <td>PCA Method</td>\n",
              "      <td>None</td>\n",
              "    </tr>\n",
              "    <tr>\n",
              "      <th>35</th>\n",
              "      <td>PCA Components</td>\n",
              "      <td>None</td>\n",
              "    </tr>\n",
              "    <tr>\n",
              "      <th>36</th>\n",
              "      <td>Ignore Low Variance</td>\n",
              "      <td>False</td>\n",
              "    </tr>\n",
              "    <tr>\n",
              "      <th>37</th>\n",
              "      <td>Combine Rare Levels</td>\n",
              "      <td>False</td>\n",
              "    </tr>\n",
              "    <tr>\n",
              "      <th>38</th>\n",
              "      <td>Rare Level Threshold</td>\n",
              "      <td>None</td>\n",
              "    </tr>\n",
              "    <tr>\n",
              "      <th>39</th>\n",
              "      <td>Numeric Binning</td>\n",
              "      <td>False</td>\n",
              "    </tr>\n",
              "    <tr>\n",
              "      <th>40</th>\n",
              "      <td>Remove Outliers</td>\n",
              "      <td>False</td>\n",
              "    </tr>\n",
              "    <tr>\n",
              "      <th>41</th>\n",
              "      <td>Outliers Threshold</td>\n",
              "      <td>None</td>\n",
              "    </tr>\n",
              "    <tr>\n",
              "      <th>42</th>\n",
              "      <td>Remove Multicollinearity</td>\n",
              "      <td>False</td>\n",
              "    </tr>\n",
              "    <tr>\n",
              "      <th>43</th>\n",
              "      <td>Multicollinearity Threshold</td>\n",
              "      <td>None</td>\n",
              "    </tr>\n",
              "    <tr>\n",
              "      <th>44</th>\n",
              "      <td>Clustering</td>\n",
              "      <td>False</td>\n",
              "    </tr>\n",
              "    <tr>\n",
              "      <th>45</th>\n",
              "      <td>Clustering Iteration</td>\n",
              "      <td>None</td>\n",
              "    </tr>\n",
              "    <tr>\n",
              "      <th>46</th>\n",
              "      <td>Polynomial Features</td>\n",
              "      <td>False</td>\n",
              "    </tr>\n",
              "    <tr>\n",
              "      <th>47</th>\n",
              "      <td>Polynomial Degree</td>\n",
              "      <td>None</td>\n",
              "    </tr>\n",
              "    <tr>\n",
              "      <th>48</th>\n",
              "      <td>Trignometry Features</td>\n",
              "      <td>False</td>\n",
              "    </tr>\n",
              "    <tr>\n",
              "      <th>49</th>\n",
              "      <td>Polynomial Threshold</td>\n",
              "      <td>None</td>\n",
              "    </tr>\n",
              "    <tr>\n",
              "      <th>50</th>\n",
              "      <td>Group Features</td>\n",
              "      <td>False</td>\n",
              "    </tr>\n",
              "    <tr>\n",
              "      <th>51</th>\n",
              "      <td>Feature Selection</td>\n",
              "      <td>False</td>\n",
              "    </tr>\n",
              "    <tr>\n",
              "      <th>52</th>\n",
              "      <td>Features Selection Threshold</td>\n",
              "      <td>None</td>\n",
              "    </tr>\n",
              "    <tr>\n",
              "      <th>53</th>\n",
              "      <td>Feature Interaction</td>\n",
              "      <td>False</td>\n",
              "    </tr>\n",
              "    <tr>\n",
              "      <th>54</th>\n",
              "      <td>Feature Ratio</td>\n",
              "      <td>False</td>\n",
              "    </tr>\n",
              "    <tr>\n",
              "      <th>55</th>\n",
              "      <td>Interaction Threshold</td>\n",
              "      <td>None</td>\n",
              "    </tr>\n",
              "    <tr>\n",
              "      <th>56</th>\n",
              "      <td>Fix Imbalance</td>\n",
              "      <td>False</td>\n",
              "    </tr>\n",
              "    <tr>\n",
              "      <th>57</th>\n",
              "      <td>Fix Imbalance Method</td>\n",
              "      <td>SMOTE</td>\n",
              "    </tr>\n",
              "  </tbody>\n",
              "</table>\n",
              "</div>"
            ],
            "text/plain": [
              "                               Description             Value\n",
              "0                               session_id                42\n",
              "1                                   Target           skipped\n",
              "2                              Target Type            Binary\n",
              "3                            Label Encoded        0: 0, 1: 1\n",
              "4                            Original Data      (167880, 42)\n",
              "5                           Missing Values             False\n",
              "6                         Numeric Features                37\n",
              "7                     Categorical Features                 4\n",
              "8                         Ordinal Features             False\n",
              "9                High Cardinality Features             False\n",
              "10                 High Cardinality Method              None\n",
              "11                   Transformed Train Set      (117515, 45)\n",
              "12                    Transformed Test Set       (50365, 45)\n",
              "13                      Shuffle Train-Test              True\n",
              "14                     Stratify Train-Test             False\n",
              "15                          Fold Generator   StratifiedKFold\n",
              "16                             Fold Number                10\n",
              "17                                CPU Jobs                -1\n",
              "18                                 Use GPU             False\n",
              "19                          Log Experiment             False\n",
              "20                         Experiment Name  clf-default-name\n",
              "21                                     USI              53d3\n",
              "22                         Imputation Type            simple\n",
              "23          Iterative Imputation Iteration              None\n",
              "24                         Numeric Imputer              mean\n",
              "25      Iterative Imputation Numeric Model              None\n",
              "26                     Categorical Imputer          constant\n",
              "27  Iterative Imputation Categorical Model              None\n",
              "28           Unknown Categoricals Handling    least_frequent\n",
              "29                               Normalize             False\n",
              "30                        Normalize Method              None\n",
              "31                          Transformation             False\n",
              "32                   Transformation Method              None\n",
              "33                                     PCA             False\n",
              "34                              PCA Method              None\n",
              "35                          PCA Components              None\n",
              "36                     Ignore Low Variance             False\n",
              "37                     Combine Rare Levels             False\n",
              "38                    Rare Level Threshold              None\n",
              "39                         Numeric Binning             False\n",
              "40                         Remove Outliers             False\n",
              "41                      Outliers Threshold              None\n",
              "42                Remove Multicollinearity             False\n",
              "43             Multicollinearity Threshold              None\n",
              "44                              Clustering             False\n",
              "45                    Clustering Iteration              None\n",
              "46                     Polynomial Features             False\n",
              "47                       Polynomial Degree              None\n",
              "48                    Trignometry Features             False\n",
              "49                    Polynomial Threshold              None\n",
              "50                          Group Features             False\n",
              "51                       Feature Selection             False\n",
              "52            Features Selection Threshold              None\n",
              "53                     Feature Interaction             False\n",
              "54                           Feature Ratio             False\n",
              "55                   Interaction Threshold              None\n",
              "56                           Fix Imbalance             False\n",
              "57                    Fix Imbalance Method             SMOTE"
            ]
          },
          "metadata": {
            "tags": []
          }
        }
      ]
    },
    {
      "cell_type": "code",
      "metadata": {
        "colab": {
          "base_uri": "https://localhost:8080/",
          "height": 508,
          "referenced_widgets": [
            "62a49fff828d40e588f9f1f4d1e034a4",
            "9ea9c65d973345cd95dd5a295faf2bdf",
            "dd0269adf78d4c358a967d9f1af57630"
          ]
        },
        "id": "o1xTY53tKld4",
        "outputId": "e1738aa8-915b-47bf-fdf4-ce2dcf6bf010"
      },
      "source": [
        "compare_models()"
      ],
      "execution_count": 15,
      "outputs": [
        {
          "output_type": "display_data",
          "data": {
            "text/html": [
              "<div>\n",
              "<style scoped>\n",
              "    .dataframe tbody tr th:only-of-type {\n",
              "        vertical-align: middle;\n",
              "    }\n",
              "\n",
              "    .dataframe tbody tr th {\n",
              "        vertical-align: top;\n",
              "    }\n",
              "\n",
              "    .dataframe thead th {\n",
              "        text-align: right;\n",
              "    }\n",
              "</style>\n",
              "<table border=\"1\" class=\"dataframe\">\n",
              "  <thead>\n",
              "    <tr style=\"text-align: right;\">\n",
              "      <th></th>\n",
              "      <th>Model</th>\n",
              "      <th>Accuracy</th>\n",
              "      <th>AUC</th>\n",
              "      <th>Recall</th>\n",
              "      <th>Prec.</th>\n",
              "      <th>F1</th>\n",
              "      <th>Kappa</th>\n",
              "      <th>MCC</th>\n",
              "      <th>TT (Sec)</th>\n",
              "    </tr>\n",
              "  </thead>\n",
              "  <tbody>\n",
              "    <tr>\n",
              "      <th>catboost</th>\n",
              "      <td>CatBoost Classifier</td>\n",
              "      <td>0.9905</td>\n",
              "      <td>0.9978</td>\n",
              "      <td>0.9898</td>\n",
              "      <td>0.9959</td>\n",
              "      <td>0.9928</td>\n",
              "      <td>0.9786</td>\n",
              "      <td>0.9787</td>\n",
              "      <td>39.883</td>\n",
              "    </tr>\n",
              "    <tr>\n",
              "      <th>xgboost</th>\n",
              "      <td>Extreme Gradient Boosting</td>\n",
              "      <td>0.9904</td>\n",
              "      <td>0.9976</td>\n",
              "      <td>0.9901</td>\n",
              "      <td>0.9956</td>\n",
              "      <td>0.9928</td>\n",
              "      <td>0.9786</td>\n",
              "      <td>0.9786</td>\n",
              "      <td>42.635</td>\n",
              "    </tr>\n",
              "    <tr>\n",
              "      <th>rf</th>\n",
              "      <td>Random Forest Classifier</td>\n",
              "      <td>0.9899</td>\n",
              "      <td>0.9976</td>\n",
              "      <td>0.9907</td>\n",
              "      <td>0.9941</td>\n",
              "      <td>0.9924</td>\n",
              "      <td>0.9773</td>\n",
              "      <td>0.9773</td>\n",
              "      <td>21.625</td>\n",
              "    </tr>\n",
              "    <tr>\n",
              "      <th>lightgbm</th>\n",
              "      <td>Light Gradient Boosting Machine</td>\n",
              "      <td>0.9899</td>\n",
              "      <td>0.9978</td>\n",
              "      <td>0.9890</td>\n",
              "      <td>0.9958</td>\n",
              "      <td>0.9924</td>\n",
              "      <td>0.9774</td>\n",
              "      <td>0.9774</td>\n",
              "      <td>1.727</td>\n",
              "    </tr>\n",
              "    <tr>\n",
              "      <th>gbc</th>\n",
              "      <td>Gradient Boosting Classifier</td>\n",
              "      <td>0.9893</td>\n",
              "      <td>0.9971</td>\n",
              "      <td>0.9878</td>\n",
              "      <td>0.9961</td>\n",
              "      <td>0.9919</td>\n",
              "      <td>0.9760</td>\n",
              "      <td>0.9760</td>\n",
              "      <td>47.998</td>\n",
              "    </tr>\n",
              "    <tr>\n",
              "      <th>ada</th>\n",
              "      <td>Ada Boost Classifier</td>\n",
              "      <td>0.9884</td>\n",
              "      <td>0.9962</td>\n",
              "      <td>0.9865</td>\n",
              "      <td>0.9961</td>\n",
              "      <td>0.9912</td>\n",
              "      <td>0.9740</td>\n",
              "      <td>0.9741</td>\n",
              "      <td>9.339</td>\n",
              "    </tr>\n",
              "    <tr>\n",
              "      <th>et</th>\n",
              "      <td>Extra Trees Classifier</td>\n",
              "      <td>0.9881</td>\n",
              "      <td>0.9969</td>\n",
              "      <td>0.9884</td>\n",
              "      <td>0.9938</td>\n",
              "      <td>0.9911</td>\n",
              "      <td>0.9734</td>\n",
              "      <td>0.9734</td>\n",
              "      <td>8.607</td>\n",
              "    </tr>\n",
              "    <tr>\n",
              "      <th>lr</th>\n",
              "      <td>Logistic Regression</td>\n",
              "      <td>0.9871</td>\n",
              "      <td>0.9946</td>\n",
              "      <td>0.9847</td>\n",
              "      <td>0.9958</td>\n",
              "      <td>0.9902</td>\n",
              "      <td>0.9710</td>\n",
              "      <td>0.9712</td>\n",
              "      <td>10.195</td>\n",
              "    </tr>\n",
              "    <tr>\n",
              "      <th>nb</th>\n",
              "      <td>Naive Bayes</td>\n",
              "      <td>0.9845</td>\n",
              "      <td>0.9876</td>\n",
              "      <td>0.9837</td>\n",
              "      <td>0.9930</td>\n",
              "      <td>0.9883</td>\n",
              "      <td>0.9653</td>\n",
              "      <td>0.9654</td>\n",
              "      <td>0.127</td>\n",
              "    </tr>\n",
              "    <tr>\n",
              "      <th>dt</th>\n",
              "      <td>Decision Tree Classifier</td>\n",
              "      <td>0.9841</td>\n",
              "      <td>0.9818</td>\n",
              "      <td>0.9889</td>\n",
              "      <td>0.9873</td>\n",
              "      <td>0.9881</td>\n",
              "      <td>0.9642</td>\n",
              "      <td>0.9643</td>\n",
              "      <td>2.418</td>\n",
              "    </tr>\n",
              "    <tr>\n",
              "      <th>ridge</th>\n",
              "      <td>Ridge Classifier</td>\n",
              "      <td>0.9832</td>\n",
              "      <td>0.0000</td>\n",
              "      <td>0.9791</td>\n",
              "      <td>0.9956</td>\n",
              "      <td>0.9873</td>\n",
              "      <td>0.9625</td>\n",
              "      <td>0.9628</td>\n",
              "      <td>0.129</td>\n",
              "    </tr>\n",
              "    <tr>\n",
              "      <th>lda</th>\n",
              "      <td>Linear Discriminant Analysis</td>\n",
              "      <td>0.9832</td>\n",
              "      <td>0.9917</td>\n",
              "      <td>0.9791</td>\n",
              "      <td>0.9956</td>\n",
              "      <td>0.9873</td>\n",
              "      <td>0.9625</td>\n",
              "      <td>0.9628</td>\n",
              "      <td>0.871</td>\n",
              "    </tr>\n",
              "    <tr>\n",
              "      <th>knn</th>\n",
              "      <td>K Neighbors Classifier</td>\n",
              "      <td>0.9216</td>\n",
              "      <td>0.9672</td>\n",
              "      <td>0.9504</td>\n",
              "      <td>0.9333</td>\n",
              "      <td>0.9417</td>\n",
              "      <td>0.8219</td>\n",
              "      <td>0.8223</td>\n",
              "      <td>6.205</td>\n",
              "    </tr>\n",
              "    <tr>\n",
              "      <th>svm</th>\n",
              "      <td>SVM - Linear Kernel</td>\n",
              "      <td>0.7018</td>\n",
              "      <td>0.0000</td>\n",
              "      <td>0.6966</td>\n",
              "      <td>0.7934</td>\n",
              "      <td>0.6479</td>\n",
              "      <td>0.4162</td>\n",
              "      <td>0.4392</td>\n",
              "      <td>1.456</td>\n",
              "    </tr>\n",
              "    <tr>\n",
              "      <th>qda</th>\n",
              "      <td>Quadratic Discriminant Analysis</td>\n",
              "      <td>0.6667</td>\n",
              "      <td>0.5000</td>\n",
              "      <td>1.0000</td>\n",
              "      <td>0.6667</td>\n",
              "      <td>0.8000</td>\n",
              "      <td>0.0000</td>\n",
              "      <td>0.0000</td>\n",
              "      <td>0.407</td>\n",
              "    </tr>\n",
              "  </tbody>\n",
              "</table>\n",
              "</div>"
            ],
            "text/plain": [
              "                                    Model  Accuracy     AUC  Recall   Prec.  \\\n",
              "catboost              CatBoost Classifier    0.9905  0.9978  0.9898  0.9959   \n",
              "xgboost         Extreme Gradient Boosting    0.9904  0.9976  0.9901  0.9956   \n",
              "rf               Random Forest Classifier    0.9899  0.9976  0.9907  0.9941   \n",
              "lightgbm  Light Gradient Boosting Machine    0.9899  0.9978  0.9890  0.9958   \n",
              "gbc          Gradient Boosting Classifier    0.9893  0.9971  0.9878  0.9961   \n",
              "ada                  Ada Boost Classifier    0.9884  0.9962  0.9865  0.9961   \n",
              "et                 Extra Trees Classifier    0.9881  0.9969  0.9884  0.9938   \n",
              "lr                    Logistic Regression    0.9871  0.9946  0.9847  0.9958   \n",
              "nb                            Naive Bayes    0.9845  0.9876  0.9837  0.9930   \n",
              "dt               Decision Tree Classifier    0.9841  0.9818  0.9889  0.9873   \n",
              "ridge                    Ridge Classifier    0.9832  0.0000  0.9791  0.9956   \n",
              "lda          Linear Discriminant Analysis    0.9832  0.9917  0.9791  0.9956   \n",
              "knn                K Neighbors Classifier    0.9216  0.9672  0.9504  0.9333   \n",
              "svm                   SVM - Linear Kernel    0.7018  0.0000  0.6966  0.7934   \n",
              "qda       Quadratic Discriminant Analysis    0.6667  0.5000  1.0000  0.6667   \n",
              "\n",
              "              F1   Kappa     MCC  TT (Sec)  \n",
              "catboost  0.9928  0.9786  0.9787    39.883  \n",
              "xgboost   0.9928  0.9786  0.9786    42.635  \n",
              "rf        0.9924  0.9773  0.9773    21.625  \n",
              "lightgbm  0.9924  0.9774  0.9774     1.727  \n",
              "gbc       0.9919  0.9760  0.9760    47.998  \n",
              "ada       0.9912  0.9740  0.9741     9.339  \n",
              "et        0.9911  0.9734  0.9734     8.607  \n",
              "lr        0.9902  0.9710  0.9712    10.195  \n",
              "nb        0.9883  0.9653  0.9654     0.127  \n",
              "dt        0.9881  0.9642  0.9643     2.418  \n",
              "ridge     0.9873  0.9625  0.9628     0.129  \n",
              "lda       0.9873  0.9625  0.9628     0.871  \n",
              "knn       0.9417  0.8219  0.8223     6.205  \n",
              "svm       0.6479  0.4162  0.4392     1.456  \n",
              "qda       0.8000  0.0000  0.0000     0.407  "
            ]
          },
          "metadata": {
            "tags": []
          }
        },
        {
          "output_type": "execute_result",
          "data": {
            "text/plain": [
              "<catboost.core.CatBoostClassifier at 0x7f3892f0e9b0>"
            ]
          },
          "metadata": {
            "tags": []
          },
          "execution_count": 15
        }
      ]
    },
    {
      "cell_type": "markdown",
      "metadata": {
        "id": "T5QeeVcfB0G0"
      },
      "source": [
        "Hyperparameter tuning using cross validation "
      ]
    },
    {
      "cell_type": "code",
      "metadata": {
        "colab": {
          "base_uri": "https://localhost:8080/"
        },
        "id": "9wUaLwaCafhQ",
        "outputId": "8d7d2b76-09d0-4250-ff22-dbf204e8d305"
      },
      "source": [
        "%%time\r\n",
        "# Random Forest Classifier\r\n",
        "rf = RandomForestClassifier()\r\n",
        "grid_clf = GridSearchCV(estimator  = rf,param_grid = { 'n_estimators': [300, 600],'max_features': [0.2, 0.3],'max_depth':[2,3]})\r\n",
        "_ = grid_clf.fit(x_train, y_train)"
      ],
      "execution_count": null,
      "outputs": [
        {
          "output_type": "stream",
          "text": [
            "CPU times: user 39min 58s, sys: 8.07 s, total: 40min 6s\n",
            "Wall time: 40min 6s\n"
          ],
          "name": "stdout"
        }
      ]
    },
    {
      "cell_type": "code",
      "metadata": {
        "colab": {
          "base_uri": "https://localhost:8080/"
        },
        "id": "19K9cG_lbYff",
        "outputId": "315fed83-a49e-40af-c14f-05716a3312f6"
      },
      "source": [
        "grid_clf.best_params_"
      ],
      "execution_count": null,
      "outputs": [
        {
          "output_type": "execute_result",
          "data": {
            "text/plain": [
              "{'max_depth': 2, 'max_features': 0.2, 'n_estimators': 300}"
            ]
          },
          "metadata": {
            "tags": []
          },
          "execution_count": 47
        }
      ]
    },
    {
      "cell_type": "code",
      "metadata": {
        "id": "ub8vHCMmB-i3"
      },
      "source": [
        "%%time\r\n",
        "# SVC\r\n",
        "sc = svm.SVC()\r\n",
        "grid_clf = GridSearchCV(estimator  = sc,param_grid = {'C': [1,5,10],'kernel': ['linear', 'rbf']})\r\n",
        "_ = grid_clf.fit(x_train, y_train)\r\n",
        "grid_clf.best_params_"
      ],
      "execution_count": null,
      "outputs": []
    },
    {
      "cell_type": "code",
      "metadata": {
        "id": "dbgdhA7ACW3N"
      },
      "source": [
        "%%time\r\n",
        "# SGD\r\n",
        "sc = svm.SVC()\r\n",
        "grid_clf = GridSearchCV(estimator  = sc,param_grid = {'C': [1,5,10],'kernel': ['linear', 'rbf']}))\r\n",
        "_ = grid_clf.fit(x_train, y_train)\r\n",
        "grid_clf.best_params_"
      ],
      "execution_count": null,
      "outputs": []
    },
    {
      "cell_type": "markdown",
      "metadata": {
        "id": "GA3YC4C28qxQ"
      },
      "source": [
        "# Training"
      ]
    },
    {
      "cell_type": "code",
      "metadata": {
        "id": "8RdKvNINwuxT"
      },
      "source": [
        "# Dimensionality Reduction (not included)\r\n",
        "pca = PCA(n_components=2)\r\n",
        "pca.fit(x_train)\r\n",
        "x_train = pca.transform(x_train)\r\n",
        "x_test = pca.transform(x_test)"
      ],
      "execution_count": null,
      "outputs": []
    },
    {
      "cell_type": "code",
      "metadata": {
        "colab": {
          "base_uri": "https://localhost:8080/"
        },
        "id": "o_C5aNBbbfss",
        "outputId": "5884f062-fb60-4552-ff0b-1c8424a07c1f"
      },
      "source": [
        " %%time\r\n",
        "#Create a Gaussian Classifier\r\n",
        "rf_model=RandomForestClassifier(n_estimators=300,max_features=0.2,max_depth=2)\r\n",
        "\r\n",
        "#Train the model using the training sets\r\n",
        "rf_model.fit(x_train,y_train)\r\n",
        "\r\n",
        "# save the model\r\n",
        "filename1 = '/content/Data/MyDrive/Technocolabs/rf_model.sav'\r\n",
        "pickle.dump(model, open(filename1, 'wb'))"
      ],
      "execution_count": null,
      "outputs": [
        {
          "output_type": "stream",
          "text": [
            "CPU times: user 30.7 s, sys: 88 ms, total: 30.8 s\n",
            "Wall time: 30.8 s\n"
          ],
          "name": "stdout"
        }
      ]
    },
    {
      "cell_type": "markdown",
      "metadata": {
        "id": "qtUnemjq8xbI"
      },
      "source": [
        "# Prediction & accuracy"
      ]
    },
    {
      "cell_type": "code",
      "metadata": {
        "colab": {
          "base_uri": "https://localhost:8080/"
        },
        "id": "LRhzIerNyAjS",
        "outputId": "47cb2174-69a7-48e0-eb57-b8e7b1f47fdd"
      },
      "source": [
        "# load the model\r\n",
        "rf_model = pickle.load(open(filename1, 'rb'))\r\n",
        "\r\n",
        "# predict\r\n",
        "y_pred=rf_model.predict(x_test)\r\n",
        "print(accuracy_score(y_test,y_pred))"
      ],
      "execution_count": null,
      "outputs": [
        {
          "output_type": "stream",
          "text": [
            "0.9824874910650465\n"
          ],
          "name": "stdout"
        }
      ]
    },
    {
      "cell_type": "code",
      "metadata": {
        "colab": {
          "base_uri": "https://localhost:8080/",
          "height": 329
        },
        "id": "--LEZg1g1PFT",
        "outputId": "82dcbd58-d805-490e-c0a3-fefb40a12479"
      },
      "source": [
        "# plot confusion matrix \r\n",
        "print(confusion_matrix(y_test,y_pred,labels=[1,0]))\r\n",
        "sns.heatmap(confusion_matrix(y_test,y_pred),annot=True,lw =2,cbar=False)\r\n",
        "plt.ylabel(\"True Values\")\r\n",
        "plt.xlabel(\"Predicted Values\")\r\n",
        "plt.title(\"CONFUSSION MATRIX VISUALIZATION\")\r\n",
        "plt.show()"
      ],
      "execution_count": null,
      "outputs": [
        {
          "output_type": "stream",
          "text": [
            "[[10967   245]\n",
            " [   49  5527]]\n"
          ],
          "name": "stdout"
        },
        {
          "output_type": "display_data",
          "data": {
            "image/png": "[encoded data removed]",
            "text/plain": [
              "<Figure size 432x288 with 1 Axes>"
            ]
          },
          "metadata": {
            "tags": [],
            "needs_background": "light"
          }
        }
      ]
    },
    {
      "cell_type": "code",
      "metadata": {
        "id": "xd3ZgaVI1WMz"
      },
      "source": [
        ""
      ],
      "execution_count": null,
      "outputs": []
    }
  ]
}